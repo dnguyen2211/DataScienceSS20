{
  "nbformat": 4,
  "nbformat_minor": 0,
  "metadata": {
    "kernelspec": {
      "display_name": "Python 3",
      "language": "python",
      "name": "python3"
    },
    "language_info": {
      "codemirror_mode": {
        "name": "ipython",
        "version": 3
      },
      "file_extension": ".py",
      "mimetype": "text/x-python",
      "name": "python",
      "nbconvert_exporter": "python",
      "pygments_lexer": "ipython3",
      "version": "3.7.6"
    },
    "colab": {
      "name": "04_d_UseCase_NY_Taxy_II.ipynb",
      "provenance": []
    }
  },
  "cells": [
    {
      "cell_type": "markdown",
      "metadata": {
        "id": "XwRu80_iUpot",
        "colab_type": "text"
      },
      "source": [
        "# Use Case: Geographical Cluster Analysis of Taxi Rides\n",
        "Using the NY Taxi data set (see Use Case Block I) "
      ]
    },
    {
      "cell_type": "code",
      "metadata": {
        "id": "-fWmaIa1Upov",
        "colab_type": "code",
        "colab": {}
      },
      "source": [
        "import pandas as pd\n",
        "import numpy as np\n",
        "import folium\n"
      ],
      "execution_count": null,
      "outputs": []
    },
    {
      "cell_type": "code",
      "metadata": {
        "id": "sFrbufVgUpo0",
        "colab_type": "code",
        "colab": {},
        "outputId": "07dc379c-3ac6-4763-bb92-0ddf87b2628b"
      },
      "source": [
        "#check if notebook runs in colab\n",
        "import sys\n",
        "IN_COLAB = 'google.colab' in sys.modules\n",
        "print('running in Colab:',IN_COLAB)\n",
        "path='..'\n",
        "if IN_COLAB:\n",
        "  #in colab, we need to clone the data from the repo\n",
        "  !git clone https://github.com/keuperj/DataScienceSS20.git\n",
        "  path='DataScienceSS20'"
      ],
      "execution_count": null,
      "outputs": [
        {
          "output_type": "stream",
          "text": [
            "running in Colab: False\n"
          ],
          "name": "stdout"
        }
      ]
    },
    {
      "cell_type": "code",
      "metadata": {
        "id": "LSiH84ccUppA",
        "colab_type": "code",
        "colab": {}
      },
      "source": [
        "# we load the data we have saved after wrangling and pre-processing in block I\n",
        "train=pd.read_csv(path+'/DATA/train_cleaned.csv')"
      ],
      "execution_count": null,
      "outputs": []
    },
    {
      "cell_type": "code",
      "metadata": {
        "id": "M3sEkX3dUppE",
        "colab_type": "code",
        "colab": {}
      },
      "source": [
        "#quick look at the data\n",
        "train.head()"
      ],
      "execution_count": null,
      "outputs": []
    },
    {
      "cell_type": "code",
      "metadata": {
        "id": "ln-YEk5IUppJ",
        "colab_type": "code",
        "colab": {},
        "outputId": "ead6d6cd-fc36-4147-9ba1-f16c53487d04"
      },
      "source": [
        "train.shape"
      ],
      "execution_count": null,
      "outputs": [
        {
          "output_type": "execute_result",
          "data": {
            "text/plain": [
              "(400000, 32)"
            ]
          },
          "metadata": {
            "tags": []
          },
          "execution_count": 23
        }
      ]
    },
    {
      "cell_type": "code",
      "metadata": {
        "id": "gNF1YL__UppN",
        "colab_type": "code",
        "colab": {}
      },
      "source": [
        "#select only the culumns with the ride coordinates\n",
        "coordinates = train[ ['pickup_latitude','pickup_longitude','dropoff_latitude' , 'dropoff_longitude' ] ]"
      ],
      "execution_count": null,
      "outputs": []
    },
    {
      "cell_type": "code",
      "metadata": {
        "id": "jJM2b1sMUppR",
        "colab_type": "code",
        "colab": {}
      },
      "source": [
        "coordinates.head()"
      ],
      "execution_count": null,
      "outputs": []
    },
    {
      "cell_type": "markdown",
      "metadata": {
        "id": "DqbcjZdWUppV",
        "colab_type": "text"
      },
      "source": [
        "## Clustering\n",
        "we will be using simple K-Means:\n",
        "https://scikit-learn.org/stable/modules/generated/sklearn.cluster.KMeans.html"
      ]
    },
    {
      "cell_type": "code",
      "metadata": {
        "id": "aBtM1KxZUppW",
        "colab_type": "code",
        "colab": {}
      },
      "source": [
        "from sklearn.cluster import KMeans"
      ],
      "execution_count": null,
      "outputs": []
    },
    {
      "cell_type": "code",
      "metadata": {
        "id": "3smAm1sBUppZ",
        "colab_type": "code",
        "colab": {}
      },
      "source": [
        "#define number of clusters and create instance\n",
        "clusters=100\n",
        "myKMeans=KMeans(n_clusters=clusters, n_jobs=-1)#parallelize to all cores"
      ],
      "execution_count": null,
      "outputs": []
    },
    {
      "cell_type": "code",
      "metadata": {
        "id": "_1-woycSUppc",
        "colab_type": "code",
        "colab": {},
        "outputId": "6206a578-4356-413e-ce03-c02c54908289"
      },
      "source": [
        "#train model\n",
        "myKMeans.fit(coordinates.to_numpy()[:100000,:])#use only subset of the data to make it faster"
      ],
      "execution_count": null,
      "outputs": [
        {
          "output_type": "execute_result",
          "data": {
            "text/plain": [
              "KMeans(algorithm='auto', copy_x=True, init='k-means++', max_iter=300,\n",
              "       n_clusters=100, n_init=10, n_jobs=-1, precompute_distances='auto',\n",
              "       random_state=None, tol=0.0001, verbose=0)"
            ]
          },
          "metadata": {
            "tags": []
          },
          "execution_count": 10
        }
      ]
    },
    {
      "cell_type": "code",
      "metadata": {
        "id": "R6PovBuLUppf",
        "colab_type": "code",
        "colab": {}
      },
      "source": [
        "#get cluster centers\n",
        "centers=myKMeans.cluster_centers_\n",
        "    "
      ],
      "execution_count": null,
      "outputs": []
    },
    {
      "cell_type": "code",
      "metadata": {
        "id": "wLIuxGvEUppi",
        "colab_type": "code",
        "colab": {}
      },
      "source": [
        "#draw map: green: start, red: end\n",
        "cluster_map = folium.Map(location = [40.730610,-73.935242],zoom_start = 12,)\n",
        "for i in range(clusters):\n",
        "    folium.CircleMarker([centers[i,0], centers[i,1]], radius=3,                \n",
        "                        color=\"green\", \n",
        "                        fill_opacity=0.9\n",
        "                       ).add_to(cluster_map)\n",
        "    folium.CircleMarker([centers[i,2], centers[i,3]], radius=3,                \n",
        "                        color=\"red\", \n",
        "                        fill_opacity=0.9\n",
        "                       ).add_to(cluster_map)\n",
        "    folium.PolyLine([ [centers[i,0],centers[i,1]] , [centers[i,2],centers[i,3]]  ], color=\"black\", weight=2.5, opacity=1).add_to(cluster_map)"
      ],
      "execution_count": null,
      "outputs": []
    },
    {
      "cell_type": "code",
      "metadata": {
        "id": "f9FPZV32Uppl",
        "colab_type": "code",
        "colab": {}
      },
      "source": [
        "cluster_map"
      ],
      "execution_count": null,
      "outputs": []
    },
    {
      "cell_type": "code",
      "metadata": {
        "id": "uhnusF5GUppn",
        "colab_type": "code",
        "colab": {}
      },
      "source": [
        ""
      ],
      "execution_count": null,
      "outputs": []
    }
  ]
}