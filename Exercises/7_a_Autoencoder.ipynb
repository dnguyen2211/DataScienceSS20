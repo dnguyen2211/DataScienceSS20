{
  "nbformat": 4,
  "nbformat_minor": 0,
  "metadata": {
    "colab": {
      "name": "Exercise 1.ipynb",
      "provenance": []
    },
    "kernelspec": {
      "name": "python3",
      "display_name": "Python 3"
    },
    "accelerator": "GPU"
  },
  "cells": [
    {
      "cell_type": "markdown",
      "metadata": {
        "id": "Nb5B49Gt2Tfr",
        "colab_type": "text"
      },
      "source": [
        "# Excercise 1: Autoencoder\n",
        "\n",
        "We have allready seen a simple MLP model for **MNIST** classification:"
      ]
    },
    {
      "cell_type": "code",
      "metadata": {
        "id": "R0ja22Zw2a08",
        "colab_type": "code",
        "colab": {
          "base_uri": "https://localhost:8080/",
          "height": 494
        },
        "outputId": "a0626a79-6692-4a32-d6b2-6ec217549d7f"
      },
      "source": [
        "import numpy as np\n",
        "import tensorflow as tf\n",
        "from tensorflow import keras\n",
        "from tensorflow.keras import layers\n",
        "\n",
        "# Get the data as Numpy arrays\n",
        "(x_train, y_train), (x_test, y_test) = keras.datasets.mnist.load_data()\n",
        "\n",
        "# Build a simple model\n",
        "inputs = keras.Input(shape=(28, 28))\n",
        "l1 = layers.experimental.preprocessing.Rescaling(1.0 / 255)(inputs)\n",
        "l2 = layers.Flatten()(l1)\n",
        "l3 = layers.Dense(128, activation=\"tanh\")(l2)\n",
        "l4 = layers.Dense(128, activation=\"tanh\")(l3)\n",
        "outputs = layers.Dense(10, activation=\"softmax\")(l4)\n",
        "model = keras.Model(inputs, outputs)\n",
        "model.summary()\n",
        "\n",
        "# Compile the model\n",
        "model.compile(optimizer=\"adam\", loss=\"sparse_categorical_crossentropy\")\n",
        "\n",
        "# Train the model for 1 epoch from Numpy data\n",
        "batch_size = 64\n",
        "print(\"Fit on NumPy data\")\n",
        "history = model.fit(x_train, y_train, batch_size=batch_size, epochs=1)\n",
        "\n",
        "# Train the model for 1 epoch using a dataset\n",
        "dataset = tf.data.Dataset.from_tensor_slices((x_train, y_train)).batch(batch_size)\n",
        "print(\"Fit on Dataset\")\n",
        "history = model.fit(dataset, epochs=1)\n"
      ],
      "execution_count": 1,
      "outputs": [
        {
          "output_type": "stream",
          "text": [
            "Downloading data from https://storage.googleapis.com/tensorflow/tf-keras-datasets/mnist.npz\n",
            "11493376/11490434 [==============================] - 0s 0us/step\n",
            "Model: \"model\"\n",
            "_________________________________________________________________\n",
            "Layer (type)                 Output Shape              Param #   \n",
            "=================================================================\n",
            "input_1 (InputLayer)         [(None, 28, 28)]          0         \n",
            "_________________________________________________________________\n",
            "rescaling (Rescaling)        (None, 28, 28)            0         \n",
            "_________________________________________________________________\n",
            "flatten (Flatten)            (None, 784)               0         \n",
            "_________________________________________________________________\n",
            "dense (Dense)                (None, 128)               100480    \n",
            "_________________________________________________________________\n",
            "dense_1 (Dense)              (None, 128)               16512     \n",
            "_________________________________________________________________\n",
            "dense_2 (Dense)              (None, 10)                1290      \n",
            "=================================================================\n",
            "Total params: 118,282\n",
            "Trainable params: 118,282\n",
            "Non-trainable params: 0\n",
            "_________________________________________________________________\n",
            "Fit on NumPy data\n",
            "938/938 [==============================] - 2s 3ms/step - loss: 0.2867\n",
            "Fit on Dataset\n",
            "938/938 [==============================] - 2s 3ms/step - loss: 0.1414\n"
          ],
          "name": "stdout"
        }
      ]
    },
    {
      "cell_type": "markdown",
      "metadata": {
        "id": "1X8K2JP13RoC",
        "colab_type": "text"
      },
      "source": [
        "Now we want to change this model and build an **autoencoder** for **MNIST**:\n",
        "\n",
        "**1. change the network topology:** \n",
        "* use 5 dense layers to form \"bottleneck\" network (see lecture). \n",
        "* Layers 1+2 should be the encoder, 3 the lattent layer aner 4+5 the decoder\n",
        "* remove the softmax (we are not doing a classification anymore)\n",
        "\n",
        "**2. change the loss-function to compare input and output -> choose a suitable loss from https://keras.io/api/losses/**\n",
        "\n",
        "**3. train the model**\n",
        "\n",
        "**4. test the model**\n",
        "* visualize input and output images to inspect the reconstruction quallity (use MATPLOTLIB *imshow*)\n",
        "* implement a function to measure the reconstrunction error between in- and output\n",
        "* change network size (number of neurons per layer) and training paramters to optimize the ressults \n",
        "\n",
        "**5. Outlier detection**\n",
        "* plot a histogram over the the recostruction errors\n",
        "* find a cutoff value and visualize the outliers"
      ]
    },
    {
      "cell_type": "code",
      "metadata": {
        "id": "H79txB6_E2DG",
        "colab_type": "code",
        "colab": {
          "base_uri": "https://localhost:8080/",
          "height": 87
        },
        "outputId": "681101a7-1178-4823-ae3c-9db491a0aa56"
      },
      "source": [
        "import numpy as np\n",
        "import tensorflow as tf\n",
        "from tensorflow import keras\n",
        "from tensorflow.keras import layers\n",
        "from sklearn.decomposition import PCA\n",
        "from sklearn.preprocessing import StandardScaler\n",
        "import pandas as pd\n",
        "import matplotlib.pyplot as plt\n",
        "import cv2\n",
        "\n",
        "\n",
        "(x_train, y_train), (x_test, y_test) = keras.datasets.mnist.load_data()\n",
        "\n",
        "print('x_train shape:', x_train.shape)\n",
        "print(x_train.shape[1:])\n",
        "print(x_train.shape[0], 'train samples')\n",
        "print(x_train.shape[0], 'test samples')"
      ],
      "execution_count": 3,
      "outputs": [
        {
          "output_type": "stream",
          "text": [
            "x_train shape: (60000, 28, 28)\n",
            "(28, 28)\n",
            "60000 train samples\n",
            "60000 test samples\n"
          ],
          "name": "stdout"
        }
      ]
    },
    {
      "cell_type": "code",
      "metadata": {
        "id": "2BRusC-Z2yjD",
        "colab_type": "code",
        "colab": {
          "base_uri": "https://localhost:8080/",
          "height": 369
        },
        "outputId": "4346e5d6-cfad-4ae4-e484-a77bbb8993be"
      },
      "source": [
        "inputs = keras.Input(shape=(784,))\n",
        "l1 = layers.Dense(64, activation=\"relu\")(inputs)\n",
        "l2 = layers.Dense(32, activation=\"relu\")(l1)\n",
        "\n",
        "l4 = layers.Dense(32, activation=\"relu\")(l2)\n",
        "l5 = layers.Dense(64, activation=\"relu\")(l4)\n",
        "outputs = layers.Dense(784, activation=\"sigmoid\")(l5)\n",
        "\n",
        "autoencoder = keras.Model(inputs, outputs)\n",
        "autoencoder.summary()"
      ],
      "execution_count": 4,
      "outputs": [
        {
          "output_type": "stream",
          "text": [
            "Model: \"model_1\"\n",
            "_________________________________________________________________\n",
            "Layer (type)                 Output Shape              Param #   \n",
            "=================================================================\n",
            "input_2 (InputLayer)         [(None, 784)]             0         \n",
            "_________________________________________________________________\n",
            "dense_3 (Dense)              (None, 64)                50240     \n",
            "_________________________________________________________________\n",
            "dense_4 (Dense)              (None, 32)                2080      \n",
            "_________________________________________________________________\n",
            "dense_5 (Dense)              (None, 32)                1056      \n",
            "_________________________________________________________________\n",
            "dense_6 (Dense)              (None, 64)                2112      \n",
            "_________________________________________________________________\n",
            "dense_7 (Dense)              (None, 784)               50960     \n",
            "=================================================================\n",
            "Total params: 106,448\n",
            "Trainable params: 106,448\n",
            "Non-trainable params: 0\n",
            "_________________________________________________________________\n"
          ],
          "name": "stdout"
        }
      ]
    },
    {
      "cell_type": "code",
      "metadata": {
        "id": "jbi-BOr3HA02",
        "colab_type": "code",
        "colab": {}
      },
      "source": [
        "#2\n",
        "\n",
        "loss_fn = tf.keras.losses.BinaryCrossentropy()\n",
        "optimizer = tf.keras.optimizers.Adam(learning_rate=0.001)\n",
        "\n",
        "autoencoder.compile(loss=loss_fn, optimizer=optimizer)"
      ],
      "execution_count": 5,
      "outputs": []
    },
    {
      "cell_type": "code",
      "metadata": {
        "id": "i1QmKVVwH5p1",
        "colab_type": "code",
        "colab": {
          "base_uri": "https://localhost:8080/",
          "height": 389
        },
        "outputId": "c0e87cb3-cb61-48b7-9dd6-451b9f1e01b8"
      },
      "source": [
        "#3 train\n",
        "# Get the data as Numpy arrays\n",
        "(x_train, y_train), (x_test, y_test) = keras.datasets.mnist.load_data()\n",
        "#normalize\n",
        "x_train = x_train.astype('float32') / 255.\n",
        "x_test = x_test.astype('float32') / 255.\n",
        "#reshape input to 1D\n",
        "x_train = x_train.reshape((len(x_train), np.prod(x_train.shape[1:])))\n",
        "x_test = x_test.reshape((len(x_test), np.prod(x_test.shape[1:])))\n",
        "\n",
        "#train\n",
        "\n",
        "history = autoencoder.fit(x_train, x_train, batch_size=32, epochs=10, validation_data=[x_test, x_test])"
      ],
      "execution_count": 6,
      "outputs": [
        {
          "output_type": "stream",
          "text": [
            "Epoch 1/10\n",
            "1875/1875 [==============================] - 6s 3ms/step - loss: 0.1628 - val_loss: 0.0000e+00\n",
            "Epoch 2/10\n",
            "1875/1875 [==============================] - 6s 3ms/step - loss: 0.1178 - val_loss: 0.0000e+00\n",
            "Epoch 3/10\n",
            "1875/1875 [==============================] - 6s 3ms/step - loss: 0.1097 - val_loss: 0.0000e+00\n",
            "Epoch 4/10\n",
            "1875/1875 [==============================] - 6s 3ms/step - loss: 0.1050 - val_loss: 0.0000e+00\n",
            "Epoch 5/10\n",
            "1875/1875 [==============================] - 5s 3ms/step - loss: 0.1013 - val_loss: 0.0000e+00\n",
            "Epoch 6/10\n",
            "1875/1875 [==============================] - 6s 3ms/step - loss: 0.0991 - val_loss: 0.0000e+00\n",
            "Epoch 7/10\n",
            "1875/1875 [==============================] - 6s 3ms/step - loss: 0.0972 - val_loss: 0.0000e+00\n",
            "Epoch 8/10\n",
            "1875/1875 [==============================] - 6s 3ms/step - loss: 0.0954 - val_loss: 0.0000e+00\n",
            "Epoch 9/10\n",
            "1875/1875 [==============================] - 6s 3ms/step - loss: 0.0942 - val_loss: 0.0000e+00\n",
            "Epoch 10/10\n",
            "1875/1875 [==============================] - 6s 3ms/step - loss: 0.0934 - val_loss: 0.0000e+00\n"
          ],
          "name": "stdout"
        }
      ]
    },
    {
      "cell_type": "code",
      "metadata": {
        "id": "-uug76CcOHd4",
        "colab_type": "code",
        "colab": {
          "base_uri": "https://localhost:8080/",
          "height": 295
        },
        "outputId": "1848b8b1-1a8d-49ae-844e-15ada9349dc0"
      },
      "source": [
        "plt.plot(history.history['loss'])\n",
        "plt.plot(history.history['val_loss'])\n",
        "plt.title('model loss')\n",
        "plt.ylabel('loss')\n",
        "plt.xlabel('epoch')\n",
        "plt.legend(['train', 'test'], loc='upper left')\n",
        "plt.show()"
      ],
      "execution_count": 7,
      "outputs": [
        {
          "output_type": "display_data",
          "data": {
            "image/png": "[encoded data removed]",
            "text/plain": [
              "<Figure size 432x288 with 1 Axes>"
            ]
          },
          "metadata": {
            "tags": [],
            "needs_background": "light"
          }
        }
      ]
    },
    {
      "cell_type": "code",
      "metadata": {
        "id": "8fwFN1eNI3-O",
        "colab_type": "code",
        "colab": {}
      },
      "source": [
        "#4\n",
        "\n",
        "# reference -> https://blog.keras.io/building-autoencoders-in-keras.html\n",
        "\n",
        "# use Matplotlib (don't ask)\n",
        "\n",
        "def show_imgs(imgs):\n",
        "    n = 10  # how many digits we will display\n",
        "    plt.figure(figsize=(20, 4))\n",
        "    for i in range(n):\n",
        "        # display original\n",
        "        ax = plt.subplot(2, n, i + 1)\n",
        "        plt.imshow(x_test[i].reshape(28, 28))\n",
        "        plt.gray()\n",
        "        ax.get_xaxis().set_visible(False)\n",
        "        ax.get_yaxis().set_visible(False)\n",
        "\n",
        "        # display reconstruction\n",
        "        ax = plt.subplot(2, n, i + 1 + n)\n",
        "        plt.imshow(imgs[i].reshape(28, 28))\n",
        "        plt.gray()\n",
        "        ax.get_xaxis().set_visible(False)\n",
        "        ax.get_yaxis().set_visible(False)\n",
        "    plt.show()"
      ],
      "execution_count": 8,
      "outputs": []
    },
    {
      "cell_type": "code",
      "metadata": {
        "id": "bJ_9T8OAJ2ja",
        "colab_type": "code",
        "colab": {
          "base_uri": "https://localhost:8080/",
          "height": 280
        },
        "outputId": "c0c183db-816f-4397-9e58-c46f2e68a7d1"
      },
      "source": [
        "test = autoencoder.predict(x_test)\n",
        "show_imgs(x_test)\n",
        "show_imgs(test)"
      ],
      "execution_count": 18,
      "outputs": [
        {
          "output_type": "display_data",
          "data": {
            "image/png": "[encoded data removed]",
            "text/plain": [
              "<Figure size 1440x288 with 20 Axes>"
            ]
          },
          "metadata": {
            "tags": [],
            "needs_background": "light"
          }
        },
        {
          "output_type": "display_data",
          "data": {
            "image/png": "[encoded data removed]",
            "text/plain": [
              "<Figure size 1440x288 with 20 Axes>"
            ]
          },
          "metadata": {
            "tags": [],
            "needs_background": "light"
          }
        }
      ]
    },
    {
      "cell_type": "code",
      "metadata": {
        "id": "-z2E7hXLKRgV",
        "colab_type": "code",
        "colab": {
          "base_uri": "https://localhost:8080/",
          "height": 1000
        },
        "outputId": "63c72f41-5a2a-4959-a40e-4e48b33d2f3e"
      },
      "source": [
        "\n",
        "errors = []\n",
        "# loop over all original images and their corresponding\n",
        "# reconstructions\n",
        "for (image, recon) in zip(x_test, test):\n",
        "\tmse = np.mean((image - recon) ** 2)\n",
        "\terrors.append(mse)\n",
        "plt.hist(errors, bins=200)"
      ],
      "execution_count": 22,
      "outputs": [
        {
          "output_type": "execute_result",
          "data": {
            "text/plain": [
              "(array([ 18.,  31.,  64.,  97., 107., 106., 116.,  98.,  96., 115., 100.,\n",
              "        113., 112.,  96., 116., 115., 112., 108., 122., 126., 141., 151.,\n",
              "        140., 159., 156., 158., 152., 149., 160., 161., 173., 160., 161.,\n",
              "        161., 167., 165., 166., 151., 173., 163., 156., 131., 149., 148.,\n",
              "        147., 137., 144., 139., 148., 161., 124., 121., 108.,  99., 117.,\n",
              "        122., 104., 105., 108.,  97., 104.,  98.,  98.,  82.,  70.,  81.,\n",
              "         86.,  69.,  71.,  64.,  74.,  59.,  51.,  57.,  41.,  45.,  51.,\n",
              "         44.,  48.,  36.,  27.,  39.,  40.,  38.,  31.,  37.,  32.,  31.,\n",
              "         29.,  40.,  24.,  25.,  30.,  26.,  32.,  26.,  20.,  17.,  18.,\n",
              "         19.,  22.,  20.,  19.,  14.,  13.,  15.,  17.,  11.,   7.,   9.,\n",
              "         10.,  15.,   5.,  15.,  11.,  14.,   8.,   7.,  10.,   4.,   1.,\n",
              "          7.,   7.,   9.,   7.,   4.,   5.,   6.,   2.,   4.,   5.,   6.,\n",
              "          5.,   4.,   5.,   2.,   2.,   5.,   3.,   5.,   6.,   2.,   1.,\n",
              "          2.,   0.,   4.,   3.,   3.,   3.,   2.,   2.,   1.,   0.,   0.,\n",
              "          1.,   1.,   1.,   0.,   0.,   3.,   0.,   0.,   1.,   0.,   0.,\n",
              "          1.,   1.,   2.,   0.,   0.,   0.,   0.,   0.,   0.,   0.,   2.,\n",
              "          1.,   1.,   0.,   0.,   0.,   1.,   0.,   0.,   1.,   1.,   0.,\n",
              "          0.,   0.,   0.,   0.,   0.,   0.,   1.,   0.,   0.,   0.,   0.,\n",
              "          1.,   1.]),\n",
              " array([0.0009474 , 0.00115618, 0.00136495, 0.00157372, 0.00178249,\n",
              "        0.00199126, 0.00220003, 0.00240881, 0.00261758, 0.00282635,\n",
              "        0.00303512, 0.00324389, 0.00345266, 0.00366144, 0.00387021,\n",
              "        0.00407898, 0.00428775, 0.00449652, 0.00470529, 0.00491407,\n",
              "        0.00512284, 0.00533161, 0.00554038, 0.00574915, 0.00595792,\n",
              "        0.0061667 , 0.00637547, 0.00658424, 0.00679301, 0.00700178,\n",
              "        0.00721055, 0.00741933, 0.0076281 , 0.00783687, 0.00804564,\n",
              "        0.00825441, 0.00846318, 0.00867196, 0.00888073, 0.0090895 ,\n",
              "        0.00929827, 0.00950704, 0.00971582, 0.00992459, 0.01013336,\n",
              "        0.01034213, 0.0105509 , 0.01075967, 0.01096844, 0.01117722,\n",
              "        0.01138599, 0.01159476, 0.01180353, 0.0120123 , 0.01222107,\n",
              "        0.01242985, 0.01263862, 0.01284739, 0.01305616, 0.01326493,\n",
              "        0.01347371, 0.01368248, 0.01389125, 0.01410002, 0.01430879,\n",
              "        0.01451756, 0.01472634, 0.01493511, 0.01514388, 0.01535265,\n",
              "        0.01556142, 0.01577019, 0.01597897, 0.01618774, 0.01639651,\n",
              "        0.01660528, 0.01681405, 0.01702282, 0.01723159, 0.01744037,\n",
              "        0.01764914, 0.01785791, 0.01806668, 0.01827545, 0.01848423,\n",
              "        0.018693  , 0.01890177, 0.01911054, 0.01931931, 0.01952808,\n",
              "        0.01973686, 0.01994563, 0.0201544 , 0.02036317, 0.02057194,\n",
              "        0.02078071, 0.02098949, 0.02119826, 0.02140703, 0.0216158 ,\n",
              "        0.02182457, 0.02203334, 0.02224212, 0.02245089, 0.02265966,\n",
              "        0.02286843, 0.0230772 , 0.02328597, 0.02349474, 0.02370352,\n",
              "        0.02391229, 0.02412106, 0.02432983, 0.0245386 , 0.02474738,\n",
              "        0.02495615, 0.02516492, 0.02537369, 0.02558246, 0.02579123,\n",
              "        0.02600001, 0.02620878, 0.02641755, 0.02662632, 0.02683509,\n",
              "        0.02704386, 0.02725263, 0.02746141, 0.02767018, 0.02787895,\n",
              "        0.02808772, 0.02829649, 0.02850527, 0.02871404, 0.02892281,\n",
              "        0.02913158, 0.02934035, 0.02954912, 0.0297579 , 0.02996667,\n",
              "        0.03017544, 0.03038421, 0.03059298, 0.03080175, 0.03101053,\n",
              "        0.0312193 , 0.03142807, 0.03163684, 0.03184561, 0.03205438,\n",
              "        0.03226316, 0.03247193, 0.0326807 , 0.03288947, 0.03309824,\n",
              "        0.03330702, 0.03351578, 0.03372456, 0.03393333, 0.0341421 ,\n",
              "        0.03435087, 0.03455964, 0.03476842, 0.03497719, 0.03518596,\n",
              "        0.03539473, 0.0356035 , 0.03581227, 0.03602105, 0.03622982,\n",
              "        0.03643859, 0.03664736, 0.03685613, 0.03706491, 0.03727368,\n",
              "        0.03748245, 0.03769122, 0.03789999, 0.03810876, 0.03831754,\n",
              "        0.03852631, 0.03873508, 0.03894385, 0.03915262, 0.03936139,\n",
              "        0.03957016, 0.03977894, 0.03998771, 0.04019648, 0.04040525,\n",
              "        0.04061402, 0.0408228 , 0.04103157, 0.04124034, 0.04144911,\n",
              "        0.04165788, 0.04186665, 0.04207543, 0.0422842 , 0.04249297,\n",
              "        0.04270174], dtype=float32),\n",
              " <a list of 200 Patch objects>)"
            ]
          },
          "metadata": {
            "tags": []
          },
          "execution_count": 22
        },
        {
          "output_type": "display_data",
          "data": {
            "image/png": "[encoded data removed]",
            "text/plain": [
              "<Figure size 432x288 with 1 Axes>"
            ]
          },
          "metadata": {
            "tags": [],
            "needs_background": "light"
          }
        }
      ]
    },
    {
      "cell_type": "code",
      "metadata": {
        "id": "E26iSad9CHsU",
        "colab_type": "code",
        "colab": {
          "base_uri": "https://localhost:8080/",
          "height": 52
        },
        "outputId": "a4d44010-db3b-4b0d-bcdf-e419a818fd50"
      },
      "source": [
        "thresh = np.quantile(errors, 0.99)\n",
        "idxs = np.where(np.array(errors) >= thresh)[0]\n",
        "print(\"[INFO] mse threshold: {}\".format(thresh))\n",
        "print(\"[INFO] {} outliers found\".format(len(idxs)))"
      ],
      "execution_count": 11,
      "outputs": [
        {
          "output_type": "stream",
          "text": [
            "[INFO] mse threshold: 0.02833594663068652\n",
            "[INFO] 600 outliers found\n"
          ],
          "name": "stdout"
        }
      ]
    }
  ]
}